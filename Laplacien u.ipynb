{
 "cells": [
  {
   "cell_type": "code",
   "execution_count": 1,
   "metadata": {},
   "outputs": [],
   "source": [
    "import sympy as sy\n",
    "from sympy.abc import x,y,u"
   ]
  },
  {
   "cell_type": "code",
   "execution_count": 2,
   "metadata": {},
   "outputs": [],
   "source": [
    "u = x*y*(1-x)*(1-y)*sy.atan(20*(x+y)/sy.sqrt(2)-16)"
   ]
  },
  {
   "cell_type": "code",
   "execution_count": 3,
   "metadata": {},
   "outputs": [
    {
     "data": {
      "text/latex": [
       "$\\displaystyle x y \\left(1 - x\\right) \\left(1 - y\\right) \\operatorname{atan}{\\left(\\frac{\\sqrt{2} \\left(20 x + 20 y\\right)}{2} - 16 \\right)}$"
      ],
      "text/plain": [
       "x*y*(1 - x)*(1 - y)*atan(sqrt(2)*(20*x + 20*y)/2 - 16)"
      ]
     },
     "execution_count": 3,
     "metadata": {},
     "output_type": "execute_result"
    }
   ],
   "source": [
    "u"
   ]
  },
  {
   "cell_type": "code",
   "execution_count": 4,
   "metadata": {},
   "outputs": [],
   "source": [
    "f = sy.diff(u,x,2)+sy.diff(u,y,2)\n",
    "f = sy.simplify(f)"
   ]
  },
  {
   "cell_type": "code",
   "execution_count": 5,
   "metadata": {},
   "outputs": [
    {
     "data": {
      "text/latex": [
       "$\\displaystyle \\frac{2 \\left(x \\left(x - 1\\right) \\left(- 400 y \\left(y - 1\\right) \\left(5 \\sqrt{2} \\left(x + y\\right) - 8\\right) + 10 \\sqrt{2} \\left(2 y - 1\\right) \\left(4 \\left(5 \\sqrt{2} \\left(x + y\\right) - 8\\right)^{2} + 1\\right) + \\left(4 \\left(5 \\sqrt{2} \\left(x + y\\right) - 8\\right)^{2} + 1\\right)^{2} \\operatorname{atan}{\\left(10 \\sqrt{2} \\left(x + y\\right) - 16 \\right)}\\right) + y \\left(y - 1\\right) \\left(- 400 x \\left(x - 1\\right) \\left(5 \\sqrt{2} \\left(x + y\\right) - 8\\right) + 10 \\sqrt{2} \\left(2 x - 1\\right) \\left(4 \\left(5 \\sqrt{2} \\left(x + y\\right) - 8\\right)^{2} + 1\\right) + \\left(4 \\left(5 \\sqrt{2} \\left(x + y\\right) - 8\\right)^{2} + 1\\right)^{2} \\operatorname{atan}{\\left(10 \\sqrt{2} \\left(x + y\\right) - 16 \\right)}\\right)\\right)}{\\left(4 \\left(5 \\sqrt{2} \\left(x + y\\right) - 8\\right)^{2} + 1\\right)^{2}}$"
      ],
      "text/plain": [
       "2*(x*(x - 1)*(-400*y*(y - 1)*(5*sqrt(2)*(x + y) - 8) + 10*sqrt(2)*(2*y - 1)*(4*(5*sqrt(2)*(x + y) - 8)**2 + 1) + (4*(5*sqrt(2)*(x + y) - 8)**2 + 1)**2*atan(10*sqrt(2)*(x + y) - 16)) + y*(y - 1)*(-400*x*(x - 1)*(5*sqrt(2)*(x + y) - 8) + 10*sqrt(2)*(2*x - 1)*(4*(5*sqrt(2)*(x + y) - 8)**2 + 1) + (4*(5*sqrt(2)*(x + y) - 8)**2 + 1)**2*atan(10*sqrt(2)*(x + y) - 16)))/(4*(5*sqrt(2)*(x + y) - 8)**2 + 1)**2"
      ]
     },
     "execution_count": 5,
     "metadata": {},
     "output_type": "execute_result"
    }
   ],
   "source": [
    "f"
   ]
  },
  {
   "cell_type": "code",
   "execution_count": 6,
   "metadata": {},
   "outputs": [
    {
     "data": {
      "text/plain": [
       "'2*(x*(x - 1)*(-400*y*(y - 1)*(5*M_SQRT2*(x + y) - 8) + 10*M_SQRT2*(2*y - 1)*(4*pow(5*M_SQRT2*(x + y) - 8, 2) + 1) + pow(4*pow(5*M_SQRT2*(x + y) - 8, 2) + 1, 2)*atan(10*M_SQRT2*(x + y) - 16)) + y*(y - 1)*(-400*x*(x - 1)*(5*M_SQRT2*(x + y) - 8) + 10*M_SQRT2*(2*x - 1)*(4*pow(5*M_SQRT2*(x + y) - 8, 2) + 1) + pow(4*pow(5*M_SQRT2*(x + y) - 8, 2) + 1, 2)*atan(10*M_SQRT2*(x + y) - 16)))/pow(4*pow(5*M_SQRT2*(x + y) - 8, 2) + 1, 2)'"
      ]
     },
     "execution_count": 6,
     "metadata": {},
     "output_type": "execute_result"
    }
   ],
   "source": [
    "sy.ccode(f)"
   ]
  },
  {
   "cell_type": "code",
   "execution_count": null,
   "metadata": {},
   "outputs": [],
   "source": []
  }
 ],
 "metadata": {
  "kernelspec": {
   "display_name": "Python 3",
   "language": "python",
   "name": "python3"
  },
  "language_info": {
   "codemirror_mode": {
    "name": "ipython",
    "version": 3
   },
   "file_extension": ".py",
   "mimetype": "text/x-python",
   "name": "python",
   "nbconvert_exporter": "python",
   "pygments_lexer": "ipython3",
   "version": "3.8.6"
  }
 },
 "nbformat": 4,
 "nbformat_minor": 4
}
